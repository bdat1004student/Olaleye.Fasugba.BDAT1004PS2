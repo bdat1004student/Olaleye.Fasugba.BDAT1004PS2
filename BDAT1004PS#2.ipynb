{
 "cells": [
  {
   "cell_type": "markdown",
   "id": "1e024aa3",
   "metadata": {
    "slideshow": {
     "slide_type": "slide"
    }
   },
   "source": [
    "<h3><font color='#004b87'>Question 1</font></h3>\n",
    "\n",
    "When function b is called the first time in b (),a becomes a global variable upon which the value from function c which is an increment of a by 2 is assigned to the variable a. So this first time when function b is called, the value of a is 2.\n",
    "The other two times when function b is called, it assigns an increment of two to the value of a each time thus making a 4 the second time and 6 the last time.\n",
    "Therefore, When the last expression (a) is evaluated, it will return a value of 6 which is simply returning the value of variable a.\n"
   ]
  },
  {
   "cell_type": "markdown",
   "id": "b10d316d",
   "metadata": {},
   "source": [
    "<h3><font color='#004b87'>Question 2</font></h3>\n"
   ]
  },
  {
   "cell_type": "code",
   "execution_count": 16,
   "id": "8c67b157",
   "metadata": {},
   "outputs": [],
   "source": [
    "def file_length(file_name):\n",
    "          # Added condition to check file exists \n",
    "    if (os.path.isfile(file_name)):\n",
    "        file = open(file_name)\n",
    "        contents = file.read()\n",
    "        file.close()\n",
    "        print(len(contents))\n",
    "              # Added condition to print file not found should the above condition fails\n",
    "    else:\n",
    "        print(f\"File {file_name} not found\")"
   ]
  },
  {
   "cell_type": "code",
   "execution_count": 18,
   "id": "f8b699d8",
   "metadata": {},
   "outputs": [
    {
     "name": "stdout",
     "output_type": "stream",
     "text": [
      "File idterm.py not found\n"
     ]
    }
   ],
   "source": [
    "file_length('idterm.py')"
   ]
  },
  {
   "cell_type": "code",
   "execution_count": 19,
   "id": "1c18f2b5",
   "metadata": {},
   "outputs": [
    {
     "name": "stdout",
     "output_type": "stream",
     "text": [
      "123\n"
     ]
    }
   ],
   "source": [
    "file_length('midterm.py')"
   ]
  },
  {
   "cell_type": "markdown",
   "id": "7c8fc82c",
   "metadata": {},
   "source": [
    "<h3><font color='#004b87'>Question 3</font></h3>"
   ]
  },
  {
   "cell_type": "code",
   "execution_count": 21,
   "id": "322ccadf",
   "metadata": {},
   "outputs": [],
   "source": [
    "# Problem 1\n",
    "#Creating class named Marsupial\n",
    "class Marsupial(object):\n",
    "    #Constructor to initialize the empty list.\n",
    "    def __init__(self):\n",
    "        self.lst = []\n",
    "    #function to add items to the list.\n",
    "    def put_in_pouch(self, item):\n",
    "        self.lst.append(item)\n",
    "    #function to return the list.\n",
    "    def pouch_contents(self):\n",
    "        return self.lst"
   ]
  },
  {
   "cell_type": "code",
   "execution_count": 27,
   "id": "a9e62cad",
   "metadata": {},
   "outputs": [
    {
     "data": {
      "text/plain": [
       "['doll', 'firetruck', 'kitten']"
      ]
     },
     "execution_count": 27,
     "metadata": {},
     "output_type": "execute_result"
    }
   ],
   "source": [
    "m = Marsupial()\n",
    "m.put_in_pouch('doll')\n",
    "m.put_in_pouch('firetruck')\n",
    "m.put_in_pouch('kitten')\n",
    "m.pouch_contents()"
   ]
  },
  {
   "cell_type": "code",
   "execution_count": 149,
   "id": "a01da4fa",
   "metadata": {},
   "outputs": [],
   "source": [
    "# Problem 2\n",
    "#Creating subclass Kangaroo\n",
    "class Kangaroo(Marsupial):\n",
    "    def __init__(self,x,y):\n",
    "        #Calling Parent class constructor\n",
    "        Marsupial.__init__(self)\n",
    "        #Initializing variables x and y (coordinates)\n",
    "        self.x = x\n",
    "        self.y = y\n",
    "        # Jump function for moving the Kangaroo\n",
    "    def jump(self,dx,dy):\n",
    "        #Changing x coordinate\n",
    "        self.x += dx\n",
    "        #Changing y coordinate\n",
    "        self.y += dy\n",
    "    #returns Kangaroo location\n",
    "    def __str__(self):\n",
    "        return 'I am a Kangaroo located at coordinates({},{})'.format(self.x,self.y)"
   ]
  },
  {
   "cell_type": "code",
   "execution_count": 150,
   "id": "6a905ee3",
   "metadata": {},
   "outputs": [
    {
     "name": "stdout",
     "output_type": "stream",
     "text": [
      "I am a Kangaroo located at coordinates(0,0)\n"
     ]
    }
   ],
   "source": [
    "k= Kangaroo(0,0)\n",
    "print (k)"
   ]
  },
  {
   "cell_type": "code",
   "execution_count": 31,
   "id": "f1bd5850",
   "metadata": {},
   "outputs": [
    {
     "data": {
      "text/plain": [
       "['doll', 'firetruck', 'kitten']"
      ]
     },
     "execution_count": 31,
     "metadata": {},
     "output_type": "execute_result"
    }
   ],
   "source": [
    "k.put_in_pouch('doll')\n",
    "k.put_in_pouch('firetruck')\n",
    "k.put_in_pouch('kitten')\n",
    "k.pouch_contents()\n"
   ]
  },
  {
   "cell_type": "code",
   "execution_count": 32,
   "id": "3b7630ae",
   "metadata": {},
   "outputs": [
    {
     "name": "stdout",
     "output_type": "stream",
     "text": [
      "I am a Kangaroo located at coordinates(3,0)\n"
     ]
    }
   ],
   "source": [
    "k.jump(1,0)\n",
    "k.jump(1,0)\n",
    "k.jump(1,0)\n",
    "print(k)"
   ]
  },
  {
   "cell_type": "markdown",
   "id": "9ba79f17",
   "metadata": {},
   "source": [
    "<h3><font color='#004b87'>Question 4</font></h3>"
   ]
  },
  {
   "cell_type": "code",
   "execution_count": 147,
   "id": "3c73f599",
   "metadata": {},
   "outputs": [],
   "source": [
    "#Creating function collatz which takes a parameter x as input\n",
    "def collatz(x):\n",
    "    if x!=1:\n",
    "        print(int(x))\n",
    "        #Check if variable is even\n",
    "    if x%2 == 0:\n",
    "        if x == 1:\n",
    "            #Return 1 if variable expression returns 1 after division by 2\n",
    "            return 1\n",
    "        #else call function collatz and divide the variable by 2\n",
    "        else:\n",
    "            return collatz(x/2)\n",
    "        #check if variable is odd\n",
    "    if x%2 != 0:\n",
    "        if x ==1:\n",
    "            #Return 1 if variable expression returns 1\n",
    "            return 1\n",
    "        else:\n",
    "            #else call function collatz, multiply variable by 3, then add 1\n",
    "            return collatz(3 * x +1)"
   ]
  },
  {
   "cell_type": "code",
   "execution_count": 148,
   "id": "4e5af60a",
   "metadata": {},
   "outputs": [
    {
     "data": {
      "text/plain": [
       "1"
      ]
     },
     "execution_count": 148,
     "metadata": {},
     "output_type": "execute_result"
    }
   ],
   "source": [
    "collatz(1)\n"
   ]
  },
  {
   "cell_type": "code",
   "execution_count": 37,
   "id": "cbc70fb1",
   "metadata": {},
   "outputs": [
    {
     "name": "stdout",
     "output_type": "stream",
     "text": [
      "10\n",
      "5\n",
      "16\n",
      "8\n",
      "4\n",
      "2\n"
     ]
    },
    {
     "data": {
      "text/plain": [
       "1"
      ]
     },
     "execution_count": 37,
     "metadata": {},
     "output_type": "execute_result"
    }
   ],
   "source": [
    "collatz(10)"
   ]
  },
  {
   "cell_type": "markdown",
   "id": "64f2537e",
   "metadata": {},
   "source": [
    "<h3><font color='#004b87'>Question 5</font></h3>"
   ]
  },
  {
   "cell_type": "code",
   "execution_count": 145,
   "id": "7b5b25f5",
   "metadata": {},
   "outputs": [],
   "source": [
    "#Creating function binary which takes a parameter num as input\n",
    "def binary(num):\n",
    "    if num >= 1:\n",
    "        #If num is greater than or equal to one, call binary function to perform an integer division by 2\n",
    "        binary(num // 2)\n",
    "        #print remainder of above integer division using '' end seperator\n",
    "    print(num % 2, end = '')"
   ]
  },
  {
   "cell_type": "code",
   "execution_count": 146,
   "id": "c148914b",
   "metadata": {},
   "outputs": [
    {
     "name": "stdout",
     "output_type": "stream",
     "text": [
      "0"
     ]
    }
   ],
   "source": [
    "binary(0)\n"
   ]
  },
  {
   "cell_type": "code",
   "execution_count": 47,
   "id": "1694e09c",
   "metadata": {},
   "outputs": [
    {
     "name": "stdout",
     "output_type": "stream",
     "text": [
      "01"
     ]
    }
   ],
   "source": [
    "binary(1)\n"
   ]
  },
  {
   "cell_type": "code",
   "execution_count": 41,
   "id": "db72bd28",
   "metadata": {},
   "outputs": [
    {
     "name": "stdout",
     "output_type": "stream",
     "text": [
      "011"
     ]
    }
   ],
   "source": [
    "binary(3)\n"
   ]
  },
  {
   "cell_type": "code",
   "execution_count": 42,
   "id": "2dbd9cdb",
   "metadata": {},
   "outputs": [
    {
     "name": "stdout",
     "output_type": "stream",
     "text": [
      "01001"
     ]
    }
   ],
   "source": [
    "binary(9)\n"
   ]
  },
  {
   "cell_type": "markdown",
   "id": "49ec3c95",
   "metadata": {},
   "source": [
    "<h3><font color='#004b87'>Question 6</font></h3>"
   ]
  },
  {
   "cell_type": "code",
   "execution_count": 142,
   "id": "97918ebf",
   "metadata": {},
   "outputs": [],
   "source": [
    "# Importing libraries\n",
    "import re\n",
    "from html.parser import HTMLParser\n",
    "# Class named HeadingParser\n",
    "class HeadingParser(HTMLParser):\n",
    " # Function for handling start tag which takes tag and its attributes as input parameter\n",
    " def handle_starttag(self, tag, attrs):\n",
    " # Declaring a global variable -getH\n",
    "     global getH\n",
    " # Regular expression for matching the given start tag\n",
    "     match = re.match(r'h(\\d)', tag, re.I)\n",
    "     if match:\n",
    "        getH = int(match.group(1))\n",
    "    \n",
    "    \n",
    " # Function for handling end tag which takes tag as input parameter\n",
    " def handle_endtag(self, tag):\n",
    " # Regular expression for matching the given start tag\n",
    "     match = re.match(r'h(\\d)', tag, re.I)\n",
    "     if match:\n",
    "        getH = 0\n",
    " # Function for printing the data\n",
    " def handle_data(self, data):\n",
    " # Checking if getH is greater than 0 (for h1 it is 1 and for h2 it is 2) and data\n",
    "     if getH > 0 and not (data.isspace()):\n",
    " # Adjusting indentation according to the heading\n",
    "         tab = getH - 1\n",
    "         out = \"\\t\" * tab\n",
    " # Printing data with indentation\n",
    "         print(out + data)"
   ]
  },
  {
   "cell_type": "code",
   "execution_count": 144,
   "id": "fb5e2797",
   "metadata": {},
   "outputs": [
    {
     "name": "stdout",
     "output_type": "stream",
     "text": [
      "W3C Mission\n",
      "\tPrinciples\n"
     ]
    }
   ],
   "source": [
    "infile = open('w3c.html')\n",
    "content = infile.read()\n",
    "infile.close()\n",
    "getH = 0\n",
    "hp = HeadingParser()\n",
    "hp.feed(content)"
   ]
  },
  {
   "cell_type": "markdown",
   "id": "b14ed824",
   "metadata": {},
   "source": [
    "<h3><font color='#004b87'>Question 7</font></h3>"
   ]
  },
  {
   "cell_type": "code",
   "execution_count": 161,
   "id": "ce5794b4",
   "metadata": {},
   "outputs": [
    {
     "name": "stdout",
     "output_type": "stream",
     "text": [
      "http://reed.cs.depaul.edu/lperkovic/test1.html\n",
      " http://reed.cs.depaul.edu/lperkovic/test2.html\n"
     ]
    }
   ],
   "source": [
    "# Importing libraries\n",
    "import httplib2\n",
    "from bs4 import BeautifulSoup, SoupStrainer\n",
    "#Creating function getLinks which takes url parameter as an input and return links or responses.\n",
    "def getLinks(url):\n",
    "    #Initializing the empty list\n",
    "    res = []\n",
    "    #Accessing url resources via http call\n",
    "    http = httplib2.Http()\n",
    "    #Accessing status codes and request of the url passed.\n",
    "    status, response = http.request(url)\n",
    "    \n",
    "    #For loop for checking the response from getLinks function\n",
    "    for link in BeautifulSoup(response, parse_only=SoupStrainer('a'),features=\"html.parser\"):\n",
    "        #check href exists\n",
    "        if link.has_attr('href'):\n",
    "            #check response protocol if secured or not\n",
    "            if link['href'][:5] == \"http:\" or link['href'][:5] == \"https\":\n",
    "                #Add the response to the list\n",
    "                res.append(link['href'])\n",
    "                #return all links or responses\n",
    "                return res\n",
    "            \n",
    "#function to extract url up to given depth in parameters with indent\n",
    "def webdir(url, depth, indent):\n",
    "    #print url with given indent\n",
    "    print(indent * \" \" + url)\n",
    "    #exit function when depth is 0\n",
    "    if depth == 0:\n",
    "        return\n",
    "    #getting responses from url\n",
    "    for i in getLinks(url):\n",
    "        #Increase indent and decrease depth by calling function webdir\n",
    "        webdir(i, depth - 1, indent + 1)\n",
    "webdir(\"http://reed.cs.depaul.edu/lperkovic/test1.html\", 1, 0)\n",
    "        "
   ]
  },
  {
   "cell_type": "markdown",
   "id": "8f028487",
   "metadata": {},
   "source": [
    "<h3><font color='#004b87'>Question 8</font></h3>"
   ]
  },
  {
   "cell_type": "code",
   "execution_count": 74,
   "id": "cea48e71",
   "metadata": {},
   "outputs": [
    {
     "name": "stdout",
     "output_type": "stream",
     "text": [
      "Requirement already satisfied: ipython-sql in c:\\programdata\\anaconda3\\lib\\site-packages (0.4.0)\n",
      "Requirement already satisfied: ipython-genutils>=0.1.0 in c:\\programdata\\anaconda3\\lib\\site-packages (from ipython-sql) (0.2.0)\n",
      "Requirement already satisfied: prettytable<1 in c:\\programdata\\anaconda3\\lib\\site-packages (from ipython-sql) (0.7.2)\n",
      "Requirement already satisfied: ipython>=1.0 in c:\\programdata\\anaconda3\\lib\\site-packages (from ipython-sql) (7.29.0)\n",
      "Requirement already satisfied: sqlalchemy>=0.6.7 in c:\\programdata\\anaconda3\\lib\\site-packages (from ipython-sql) (1.4.22)\n",
      "Requirement already satisfied: sqlparse in c:\\programdata\\anaconda3\\lib\\site-packages (from ipython-sql) (0.4.2)\n",
      "Requirement already satisfied: six in c:\\programdata\\anaconda3\\lib\\site-packages (from ipython-sql) (1.16.0)\n",
      "Requirement already satisfied: setuptools>=18.5 in c:\\programdata\\anaconda3\\lib\\site-packages (from ipython>=1.0->ipython-sql) (58.0.4)\n",
      "Requirement already satisfied: matplotlib-inline in c:\\programdata\\anaconda3\\lib\\site-packages (from ipython>=1.0->ipython-sql) (0.1.2)\n",
      "Requirement already satisfied: backcall in c:\\programdata\\anaconda3\\lib\\site-packages (from ipython>=1.0->ipython-sql) (0.2.0)\n",
      "Requirement already satisfied: pickleshare in c:\\programdata\\anaconda3\\lib\\site-packages (from ipython>=1.0->ipython-sql) (0.7.5)\n",
      "Requirement already satisfied: jedi>=0.16 in c:\\programdata\\anaconda3\\lib\\site-packages (from ipython>=1.0->ipython-sql) (0.18.0)\n",
      "Requirement already satisfied: pygments in c:\\programdata\\anaconda3\\lib\\site-packages (from ipython>=1.0->ipython-sql) (2.10.0)\n",
      "Requirement already satisfied: colorama in c:\\programdata\\anaconda3\\lib\\site-packages (from ipython>=1.0->ipython-sql) (0.4.4)\n",
      "Requirement already satisfied: traitlets>=4.2 in c:\\programdata\\anaconda3\\lib\\site-packages (from ipython>=1.0->ipython-sql) (5.1.0)\n",
      "Requirement already satisfied: decorator in c:\\programdata\\anaconda3\\lib\\site-packages (from ipython>=1.0->ipython-sql) (5.1.0)\n",
      "Requirement already satisfied: prompt-toolkit!=3.0.0,!=3.0.1,<3.1.0,>=2.0.0 in c:\\programdata\\anaconda3\\lib\\site-packages (from ipython>=1.0->ipython-sql) (3.0.20)\n",
      "Requirement already satisfied: greenlet!=0.4.17 in c:\\programdata\\anaconda3\\lib\\site-packages (from sqlalchemy>=0.6.7->ipython-sql) (1.1.1)\n",
      "Requirement already satisfied: parso<0.9.0,>=0.8.0 in c:\\programdata\\anaconda3\\lib\\site-packages (from jedi>=0.16->ipython>=1.0->ipython-sql) (0.8.2)\n",
      "Requirement already satisfied: wcwidth in c:\\programdata\\anaconda3\\lib\\site-packages (from prompt-toolkit!=3.0.0,!=3.0.1,<3.1.0,>=2.0.0->ipython>=1.0->ipython-sql) (0.2.5)\n"
     ]
    }
   ],
   "source": [
    "\n",
    "!pip install ipython-sql"
   ]
  },
  {
   "cell_type": "code",
   "execution_count": 2,
   "id": "e39a8fc7",
   "metadata": {},
   "outputs": [],
   "source": [
    "%%capture\n",
    "%load_ext sql\n",
    "%sql sqlite:///BDAT1004.db\n",
    "    #initializing sql database/cmds\n",
    "    \n",
    "    #https://community.dataquest.io/t/guided-sql-project-error-cell-magic-sql-not-found/348678"
   ]
  },
  {
   "cell_type": "code",
   "execution_count": 3,
   "id": "87096b3e",
   "metadata": {},
   "outputs": [
    {
     "name": "stdout",
     "output_type": "stream",
     "text": [
      " * sqlite:///BDAT1004.db\n",
      "Done.\n"
     ]
    },
    {
     "data": {
      "text/plain": [
       "[]"
      ]
     },
     "execution_count": 3,
     "metadata": {},
     "output_type": "execute_result"
    }
   ],
   "source": [
    "%%sql\n",
    "\n",
    "CREATE TABLE Weather\n",
    "(\n",
    "  City text, \n",
    "  Country text, \n",
    "  Season text,\n",
    "  Temperature float,\n",
    "  Rainfall float\n",
    ")\n",
    "\n"
   ]
  },
  {
   "cell_type": "code",
   "execution_count": 4,
   "id": "69e2a9e5",
   "metadata": {},
   "outputs": [
    {
     "name": "stdout",
     "output_type": "stream",
     "text": [
      " * sqlite:///BDAT1004.db\n",
      "Done.\n"
     ]
    },
    {
     "data": {
      "text/html": [
       "<table>\n",
       "    <tr>\n",
       "        <th>City</th>\n",
       "        <th>Country</th>\n",
       "        <th>Season</th>\n",
       "        <th>Temperature</th>\n",
       "        <th>Rainfall</th>\n",
       "    </tr>\n",
       "</table>"
      ],
      "text/plain": [
       "[]"
      ]
     },
     "execution_count": 4,
     "metadata": {},
     "output_type": "execute_result"
    }
   ],
   "source": [
    "%%sql\n",
    "select * from Weather"
   ]
  },
  {
   "cell_type": "code",
   "execution_count": 5,
   "id": "51b82ec1",
   "metadata": {},
   "outputs": [
    {
     "name": "stdout",
     "output_type": "stream",
     "text": [
      " * sqlite:///BDAT1004.db\n",
      "12 rows affected.\n"
     ]
    },
    {
     "data": {
      "text/plain": [
       "[]"
      ]
     },
     "execution_count": 5,
     "metadata": {},
     "output_type": "execute_result"
    }
   ],
   "source": [
    "%%sql\n",
    "INSERT INTO Weather(City,Country,Season,Temperature,Rainfall) \n",
    "VALUES ('Mumbai', 'India','Winter' , 24.8,5.9),\n",
    "('Mumbai', 'India','Spring' , 28.4,16.2),\n",
    "('Mumbai', 'India','Summer' , 27.9,1549.4),\n",
    "('Mumbai', 'India','Fall' , 27.9,346.0),\n",
    "('London', 'United Kingdom','Winter' , 4.2,207.7),\n",
    "('London', 'United Kingdom','Spring' , 8.3,169.6),\n",
    "('London', 'United Kingdom','Summer' , 15.7,157.0),\n",
    "('London', 'United Kingdom','Fall' , 10.4,218.5),\n",
    "('Cairo', 'Egypt','Winter' , 13.6,16.5),\n",
    "('Cairo', 'Egypt','Spring' , 20.7,6.5),\n",
    "('Cairo', 'Egypt','Summer' , 27.7,0.1),\n",
    "('Cairo', 'Egypt','Fall' , 22.2,4.5)"
   ]
  },
  {
   "cell_type": "markdown",
   "id": "364a72ad",
   "metadata": {},
   "source": [
    "<h3><font color='#004b87'>Question 8a</font></h3>"
   ]
  },
  {
   "cell_type": "code",
   "execution_count": 6,
   "id": "57c0d08a",
   "metadata": {},
   "outputs": [
    {
     "name": "stdout",
     "output_type": "stream",
     "text": [
      " * sqlite:///BDAT1004.db\n",
      "Done.\n"
     ]
    },
    {
     "data": {
      "text/html": [
       "<table>\n",
       "    <tr>\n",
       "        <th>City</th>\n",
       "        <th>Country</th>\n",
       "        <th>Season</th>\n",
       "        <th>Temperature</th>\n",
       "        <th>Rainfall</th>\n",
       "    </tr>\n",
       "    <tr>\n",
       "        <td>Mumbai</td>\n",
       "        <td>India</td>\n",
       "        <td>Winter</td>\n",
       "        <td>24.8</td>\n",
       "        <td>5.9</td>\n",
       "    </tr>\n",
       "    <tr>\n",
       "        <td>Mumbai</td>\n",
       "        <td>India</td>\n",
       "        <td>Spring</td>\n",
       "        <td>28.4</td>\n",
       "        <td>16.2</td>\n",
       "    </tr>\n",
       "    <tr>\n",
       "        <td>Mumbai</td>\n",
       "        <td>India</td>\n",
       "        <td>Summer</td>\n",
       "        <td>27.9</td>\n",
       "        <td>1549.4</td>\n",
       "    </tr>\n",
       "    <tr>\n",
       "        <td>Mumbai</td>\n",
       "        <td>India</td>\n",
       "        <td>Fall</td>\n",
       "        <td>27.9</td>\n",
       "        <td>346.0</td>\n",
       "    </tr>\n",
       "    <tr>\n",
       "        <td>London</td>\n",
       "        <td>United Kingdom</td>\n",
       "        <td>Winter</td>\n",
       "        <td>4.2</td>\n",
       "        <td>207.7</td>\n",
       "    </tr>\n",
       "    <tr>\n",
       "        <td>London</td>\n",
       "        <td>United Kingdom</td>\n",
       "        <td>Spring</td>\n",
       "        <td>8.3</td>\n",
       "        <td>169.6</td>\n",
       "    </tr>\n",
       "    <tr>\n",
       "        <td>London</td>\n",
       "        <td>United Kingdom</td>\n",
       "        <td>Summer</td>\n",
       "        <td>15.7</td>\n",
       "        <td>157.0</td>\n",
       "    </tr>\n",
       "    <tr>\n",
       "        <td>London</td>\n",
       "        <td>United Kingdom</td>\n",
       "        <td>Fall</td>\n",
       "        <td>10.4</td>\n",
       "        <td>218.5</td>\n",
       "    </tr>\n",
       "    <tr>\n",
       "        <td>Cairo</td>\n",
       "        <td>Egypt</td>\n",
       "        <td>Winter</td>\n",
       "        <td>13.6</td>\n",
       "        <td>16.5</td>\n",
       "    </tr>\n",
       "    <tr>\n",
       "        <td>Cairo</td>\n",
       "        <td>Egypt</td>\n",
       "        <td>Spring</td>\n",
       "        <td>20.7</td>\n",
       "        <td>6.5</td>\n",
       "    </tr>\n",
       "    <tr>\n",
       "        <td>Cairo</td>\n",
       "        <td>Egypt</td>\n",
       "        <td>Summer</td>\n",
       "        <td>27.7</td>\n",
       "        <td>0.1</td>\n",
       "    </tr>\n",
       "    <tr>\n",
       "        <td>Cairo</td>\n",
       "        <td>Egypt</td>\n",
       "        <td>Fall</td>\n",
       "        <td>22.2</td>\n",
       "        <td>4.5</td>\n",
       "    </tr>\n",
       "</table>"
      ],
      "text/plain": [
       "[('Mumbai', 'India', 'Winter', 24.8, 5.9),\n",
       " ('Mumbai', 'India', 'Spring', 28.4, 16.2),\n",
       " ('Mumbai', 'India', 'Summer', 27.9, 1549.4),\n",
       " ('Mumbai', 'India', 'Fall', 27.9, 346.0),\n",
       " ('London', 'United Kingdom', 'Winter', 4.2, 207.7),\n",
       " ('London', 'United Kingdom', 'Spring', 8.3, 169.6),\n",
       " ('London', 'United Kingdom', 'Summer', 15.7, 157.0),\n",
       " ('London', 'United Kingdom', 'Fall', 10.4, 218.5),\n",
       " ('Cairo', 'Egypt', 'Winter', 13.6, 16.5),\n",
       " ('Cairo', 'Egypt', 'Spring', 20.7, 6.5),\n",
       " ('Cairo', 'Egypt', 'Summer', 27.7, 0.1),\n",
       " ('Cairo', 'Egypt', 'Fall', 22.2, 4.5)]"
      ]
     },
     "execution_count": 6,
     "metadata": {},
     "output_type": "execute_result"
    }
   ],
   "source": [
    "%%sql\n",
    "\n",
    "select * FROM Weather \n"
   ]
  },
  {
   "cell_type": "markdown",
   "id": "7e5c7ea5",
   "metadata": {},
   "source": [
    "<h3><font color='#004b87'>Question 8b</font></h3>"
   ]
  },
  {
   "cell_type": "code",
   "execution_count": 7,
   "id": "06215413",
   "metadata": {},
   "outputs": [
    {
     "name": "stdout",
     "output_type": "stream",
     "text": [
      " * sqlite:///BDAT1004.db\n",
      "Done.\n"
     ]
    },
    {
     "data": {
      "text/html": [
       "<table>\n",
       "    <tr>\n",
       "        <th>City</th>\n",
       "    </tr>\n",
       "    <tr>\n",
       "        <td>Mumbai</td>\n",
       "    </tr>\n",
       "    <tr>\n",
       "        <td>London</td>\n",
       "    </tr>\n",
       "    <tr>\n",
       "        <td>Cairo</td>\n",
       "    </tr>\n",
       "</table>"
      ],
      "text/plain": [
       "[('Mumbai',), ('London',), ('Cairo',)]"
      ]
     },
     "execution_count": 7,
     "metadata": {},
     "output_type": "execute_result"
    }
   ],
   "source": [
    "%%sql\n",
    "SELECT DISTINCT CITY FROM Weather"
   ]
  },
  {
   "cell_type": "markdown",
   "id": "34643e2c",
   "metadata": {},
   "source": [
    "<h3><font color='#004b87'>Question 8c</font></h3>"
   ]
  },
  {
   "cell_type": "code",
   "execution_count": 8,
   "id": "b787e3fe",
   "metadata": {},
   "outputs": [
    {
     "name": "stdout",
     "output_type": "stream",
     "text": [
      " * sqlite:///BDAT1004.db\n",
      "Done.\n"
     ]
    },
    {
     "data": {
      "text/html": [
       "<table>\n",
       "    <tr>\n",
       "        <th>City</th>\n",
       "        <th>Country</th>\n",
       "        <th>Season</th>\n",
       "        <th>Temperature</th>\n",
       "        <th>Rainfall</th>\n",
       "    </tr>\n",
       "    <tr>\n",
       "        <td>Mumbai</td>\n",
       "        <td>India</td>\n",
       "        <td>Winter</td>\n",
       "        <td>24.8</td>\n",
       "        <td>5.9</td>\n",
       "    </tr>\n",
       "    <tr>\n",
       "        <td>Mumbai</td>\n",
       "        <td>India</td>\n",
       "        <td>Spring</td>\n",
       "        <td>28.4</td>\n",
       "        <td>16.2</td>\n",
       "    </tr>\n",
       "    <tr>\n",
       "        <td>Mumbai</td>\n",
       "        <td>India</td>\n",
       "        <td>Summer</td>\n",
       "        <td>27.9</td>\n",
       "        <td>1549.4</td>\n",
       "    </tr>\n",
       "    <tr>\n",
       "        <td>Mumbai</td>\n",
       "        <td>India</td>\n",
       "        <td>Fall</td>\n",
       "        <td>27.9</td>\n",
       "        <td>346.0</td>\n",
       "    </tr>\n",
       "</table>"
      ],
      "text/plain": [
       "[('Mumbai', 'India', 'Winter', 24.8, 5.9),\n",
       " ('Mumbai', 'India', 'Spring', 28.4, 16.2),\n",
       " ('Mumbai', 'India', 'Summer', 27.9, 1549.4),\n",
       " ('Mumbai', 'India', 'Fall', 27.9, 346.0)]"
      ]
     },
     "execution_count": 8,
     "metadata": {},
     "output_type": "execute_result"
    }
   ],
   "source": [
    "%%sql\n",
    "select * FROM Weather WHERE Country = 'India'"
   ]
  },
  {
   "cell_type": "markdown",
   "id": "79e2bcd4",
   "metadata": {},
   "source": [
    "<h3><font color='#004b87'>Question 8d</font></h3>"
   ]
  },
  {
   "cell_type": "code",
   "execution_count": 9,
   "id": "a48b3fb6",
   "metadata": {},
   "outputs": [
    {
     "name": "stdout",
     "output_type": "stream",
     "text": [
      " * sqlite:///BDAT1004.db\n",
      "Done.\n"
     ]
    },
    {
     "data": {
      "text/html": [
       "<table>\n",
       "    <tr>\n",
       "        <th>City</th>\n",
       "        <th>Country</th>\n",
       "        <th>Season</th>\n",
       "        <th>Temperature</th>\n",
       "        <th>Rainfall</th>\n",
       "    </tr>\n",
       "    <tr>\n",
       "        <td>Mumbai</td>\n",
       "        <td>India</td>\n",
       "        <td>Fall</td>\n",
       "        <td>27.9</td>\n",
       "        <td>346.0</td>\n",
       "    </tr>\n",
       "    <tr>\n",
       "        <td>London</td>\n",
       "        <td>United Kingdom</td>\n",
       "        <td>Fall</td>\n",
       "        <td>10.4</td>\n",
       "        <td>218.5</td>\n",
       "    </tr>\n",
       "    <tr>\n",
       "        <td>Cairo</td>\n",
       "        <td>Egypt</td>\n",
       "        <td>Fall</td>\n",
       "        <td>22.2</td>\n",
       "        <td>4.5</td>\n",
       "    </tr>\n",
       "</table>"
      ],
      "text/plain": [
       "[('Mumbai', 'India', 'Fall', 27.9, 346.0),\n",
       " ('London', 'United Kingdom', 'Fall', 10.4, 218.5),\n",
       " ('Cairo', 'Egypt', 'Fall', 22.2, 4.5)]"
      ]
     },
     "execution_count": 9,
     "metadata": {},
     "output_type": "execute_result"
    }
   ],
   "source": [
    "%%sql\n",
    "select * FROM Weather WHERE Season = 'Fall'"
   ]
  },
  {
   "cell_type": "markdown",
   "id": "702cd3d7",
   "metadata": {},
   "source": [
    "<h3><font color='#004b87'>Question 8e</font></h3>"
   ]
  },
  {
   "cell_type": "code",
   "execution_count": 10,
   "id": "cd4384dc",
   "metadata": {},
   "outputs": [
    {
     "name": "stdout",
     "output_type": "stream",
     "text": [
      " * sqlite:///BDAT1004.db\n",
      "Done.\n"
     ]
    },
    {
     "data": {
      "text/html": [
       "<table>\n",
       "    <tr>\n",
       "        <th>City</th>\n",
       "        <th>Country</th>\n",
       "        <th>Season</th>\n",
       "        <th>Average Temperature</th>\n",
       "    </tr>\n",
       "</table>"
      ],
      "text/plain": [
       "[]"
      ]
     },
     "execution_count": 10,
     "metadata": {},
     "output_type": "execute_result"
    }
   ],
   "source": [
    "%%sql\n",
    "select City, Country,Season, AVG(Temperature) AS 'Average Temperature'\n",
    "FROM Weather\n",
    "GROUP BY City, Country,Season\n",
    "HAVING AVG(Temperature) BETWEEN 200 AND 400\n"
   ]
  },
  {
   "cell_type": "markdown",
   "id": "70dfe9f1",
   "metadata": {},
   "source": [
    "<h3><font color='#004b87'>Question 8f</font></h3>"
   ]
  },
  {
   "cell_type": "code",
   "execution_count": 11,
   "id": "8745e64e",
   "metadata": {},
   "outputs": [
    {
     "name": "stdout",
     "output_type": "stream",
     "text": [
      " * sqlite:///BDAT1004.db\n",
      "Done.\n"
     ]
    },
    {
     "data": {
      "text/html": [
       "<table>\n",
       "    <tr>\n",
       "        <th>City</th>\n",
       "        <th>Country</th>\n",
       "        <th>Average Temperature</th>\n",
       "    </tr>\n",
       "    <tr>\n",
       "        <td>Cairo</td>\n",
       "        <td>Egypt</td>\n",
       "        <td>22.2</td>\n",
       "    </tr>\n",
       "    <tr>\n",
       "        <td>Mumbai</td>\n",
       "        <td>India</td>\n",
       "        <td>27.9</td>\n",
       "    </tr>\n",
       "</table>"
      ],
      "text/plain": [
       "[('Cairo', 'Egypt', 22.2), ('Mumbai', 'India', 27.9)]"
      ]
     },
     "execution_count": 11,
     "metadata": {},
     "output_type": "execute_result"
    }
   ],
   "source": [
    "%%sql\n",
    "select City, Country, AVG(Temperature) AS 'Average Temperature'\n",
    "FROM Weather\n",
    "WHERE Season = 'Fall'\n",
    "GROUP BY City, Country\n",
    "HAVING AVG(Temperature) > 20\n",
    "Order by AVG(Temperature) asc"
   ]
  },
  {
   "cell_type": "markdown",
   "id": "36efc694",
   "metadata": {},
   "source": [
    "<h3><font color='#004b87'>Question 8f</font></h3>"
   ]
  },
  {
   "cell_type": "code",
   "execution_count": 12,
   "id": "342081be",
   "metadata": {},
   "outputs": [
    {
     "name": "stdout",
     "output_type": "stream",
     "text": [
      " * sqlite:///BDAT1004.db\n",
      "Done.\n"
     ]
    },
    {
     "data": {
      "text/html": [
       "<table>\n",
       "    <tr>\n",
       "        <th>Annual Rainfall</th>\n",
       "    </tr>\n",
       "    <tr>\n",
       "        <td>27.6</td>\n",
       "    </tr>\n",
       "</table>"
      ],
      "text/plain": [
       "[(27.6,)]"
      ]
     },
     "execution_count": 12,
     "metadata": {},
     "output_type": "execute_result"
    }
   ],
   "source": [
    "%%sql\n",
    "select SUM(Rainfall) As 'Annual Rainfall'\n",
    "FROM Weather\n",
    "WHERE City = 'Cairo'\n"
   ]
  },
  {
   "cell_type": "markdown",
   "id": "b85dc736",
   "metadata": {},
   "source": [
    "<h3><font color='#004b87'>Question 8g</font></h3>"
   ]
  },
  {
   "cell_type": "code",
   "execution_count": 13,
   "id": "f7068518",
   "metadata": {},
   "outputs": [
    {
     "name": "stdout",
     "output_type": "stream",
     "text": [
      " * sqlite:///BDAT1004.db\n",
      "Done.\n"
     ]
    },
    {
     "data": {
      "text/html": [
       "<table>\n",
       "    <tr>\n",
       "        <th>Season</th>\n",
       "        <th>Annual Rainfall</th>\n",
       "    </tr>\n",
       "    <tr>\n",
       "        <td>Fall</td>\n",
       "        <td>569.0</td>\n",
       "    </tr>\n",
       "    <tr>\n",
       "        <td>Spring</td>\n",
       "        <td>192.29999999999998</td>\n",
       "    </tr>\n",
       "    <tr>\n",
       "        <td>Summer</td>\n",
       "        <td>1706.5</td>\n",
       "    </tr>\n",
       "    <tr>\n",
       "        <td>Winter</td>\n",
       "        <td>230.1</td>\n",
       "    </tr>\n",
       "</table>"
      ],
      "text/plain": [
       "[('Fall', 569.0),\n",
       " ('Spring', 192.29999999999998),\n",
       " ('Summer', 1706.5),\n",
       " ('Winter', 230.1)]"
      ]
     },
     "execution_count": 13,
     "metadata": {},
     "output_type": "execute_result"
    }
   ],
   "source": [
    "%%sql\n",
    "select Season,SUM(Rainfall) As 'Annual Rainfall'\n",
    "FROM Weather\n",
    "Group by Season\n"
   ]
  },
  {
   "cell_type": "markdown",
   "id": "5102396f",
   "metadata": {},
   "source": [
    "<h3><font color='#004b87'>Question 9</font></h3>"
   ]
  },
  {
   "cell_type": "code",
   "execution_count": 108,
   "id": "e1cf7232",
   "metadata": {},
   "outputs": [],
   "source": [
    "words = ['The', 'quick', 'brown', 'fox', 'jumps', 'over', 'the', 'lazy', 'dog']\n"
   ]
  },
  {
   "cell_type": "code",
   "execution_count": 109,
   "id": "d108697d",
   "metadata": {},
   "outputs": [
    {
     "data": {
      "text/plain": [
       "['THE', 'QUICK', 'BROWN', 'FOX', 'JUMPS', 'OVER', 'THE', 'LAZY', 'DOG']"
      ]
     },
     "execution_count": 109,
     "metadata": {},
     "output_type": "execute_result"
    }
   ],
   "source": [
    "#9a\n",
    "[word.upper() for word in words]\n"
   ]
  },
  {
   "cell_type": "code",
   "execution_count": 110,
   "id": "47ff0159",
   "metadata": {},
   "outputs": [
    {
     "data": {
      "text/plain": [
       "['the', 'quick', 'brown', 'fox', 'jumps', 'over', 'the', 'lazy', 'dog']"
      ]
     },
     "execution_count": 110,
     "metadata": {},
     "output_type": "execute_result"
    }
   ],
   "source": [
    "#9b\n",
    "[word.lower() for word in words]\n"
   ]
  },
  {
   "cell_type": "code",
   "execution_count": 111,
   "id": "6d4d87ff",
   "metadata": {},
   "outputs": [
    {
     "data": {
      "text/plain": [
       "[3, 5, 5, 3, 5, 4, 3, 4, 3]"
      ]
     },
     "execution_count": 111,
     "metadata": {},
     "output_type": "execute_result"
    }
   ],
   "source": [
    "#9c\n",
    "[len(word) for word in words]"
   ]
  },
  {
   "cell_type": "code",
   "execution_count": 112,
   "id": "95237b40",
   "metadata": {},
   "outputs": [
    {
     "data": {
      "text/plain": [
       "[['THE', 'the', 3],\n",
       " ['QUICK', 'quick', 5],\n",
       " ['BROWN', 'brown', 5],\n",
       " ['FOX', 'fox', 3],\n",
       " ['JUMPS', 'jumps', 5],\n",
       " ['OVER', 'over', 4],\n",
       " ['THE', 'the', 3],\n",
       " ['LAZY', 'lazy', 4],\n",
       " ['DOG', 'dog', 3]]"
      ]
     },
     "execution_count": 112,
     "metadata": {},
     "output_type": "execute_result"
    }
   ],
   "source": [
    "#9d\n",
    "[[word.upper(), word.lower(),len(word)] for word in words]"
   ]
  },
  {
   "cell_type": "code",
   "execution_count": 113,
   "id": "2a29fb83",
   "metadata": {},
   "outputs": [
    {
     "data": {
      "text/plain": [
       "['quick', 'brown', 'jumps', 'over', 'lazy']"
      ]
     },
     "execution_count": 113,
     "metadata": {},
     "output_type": "execute_result"
    }
   ],
   "source": [
    "#9e\n",
    "[word for word in words if len(word) >= 4]"
   ]
  },
  {
   "cell_type": "code",
   "execution_count": null,
   "id": "c1cc325c",
   "metadata": {},
   "outputs": [],
   "source": []
  }
 ],
 "metadata": {
  "celltoolbar": "Slideshow",
  "kernelspec": {
   "display_name": "Python 3 (ipykernel)",
   "language": "python",
   "name": "python3"
  },
  "language_info": {
   "codemirror_mode": {
    "name": "ipython",
    "version": 3
   },
   "file_extension": ".py",
   "mimetype": "text/x-python",
   "name": "python",
   "nbconvert_exporter": "python",
   "pygments_lexer": "ipython3",
   "version": "3.9.7"
  }
 },
 "nbformat": 4,
 "nbformat_minor": 5
}
